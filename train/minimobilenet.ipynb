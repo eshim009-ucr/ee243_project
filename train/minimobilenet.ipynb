{
 "cells": [
  {
   "cell_type": "markdown",
   "metadata": {
    "id": "STXhCuAtzUFG"
   },
   "source": [
    "# Mini Mobilenet\n",
    "\n",
    "In order to test the DPU model's separate convolution engines, this notebook trains a simple network featureing depthwise separable convolution.\n",
    "\n",
    "Based on Assignment 3 code."
   ]
  },
  {
   "cell_type": "markdown",
   "metadata": {
    "id": "tybIgoyXzUFi"
   },
   "source": [
    "## Part 1\n",
    "Fill in object class named `ConvNet` in `cnn_model.py`. You’ll define the network layers in the method `__init__` and the forward pass in the method `forward`. We create an instance of `ConvNet` in `train.py`, which takes a tensor with dimension $(B, 3, 32, 32)$ as an input, where $B$ is the batch size. The output should be a matrix of dimension $(B, 10)$ representing the confidence (before applying the softmax function) for the 10 categories. Your CNN should have 4 convolutional layers with ReLU, Dropout, Batch Normalization and Max pooling operations in each (if required), followed by a linear layer and then a classifier layer at the end. You can use the function `_initialize_weight` in `ConvNet` to initialize weights of the convolutional layers. You are allowed to choose stride, weight decay, dropout rate, filter kernel size, number of output feature maps for each layer and other hyper-parameters. FYI: A 4 layer network (written properly) should be able to obtain at least an accuracy of 65% on the test set."
   ]
  },
  {
   "cell_type": "code",
   "execution_count": null,
   "metadata": {
    "id": "3-Am8f4rzUFn"
   },
   "outputs": [],
   "source": [
    "########################################################################\n",
    "# 2. DEFINE YOUR CONVOLUTIONAL NEURAL NETWORK\n",
    "########################################################################\n",
    "\n",
    "import torch.nn as nn\n",
    "import torch.nn.functional as F\n",
    "\n",
    "class DwConv(nn.Module):\n",
    "\tdef __init__(self, in_channels, out_channels, kernel_size):\n",
    "\t\tsuper(DwConv, self).__init__()\n",
    "\t\tself.depthwise = nn.Conv2d(\n",
    "\t\t\tin_channels, in_channels,\n",
    "\t\t\tkernel_size=kernel_size, padding=kernel_size//2,\n",
    "\t\t\tgroups=in_channels\n",
    "\t\t)\n",
    "\t\tself.pointwise = nn.Conv2d(\n",
    "\t\t\tin_channels, out_channels,\n",
    "\t\t\tkernel_size=1\n",
    "\t\t)\n",
    "\tdef forward(self, x):\n",
    "\t\treturn self.pointwise(\n",
    "\t\t\tself.depthwise(x)\n",
    "\t\t)\n",
    "\n",
    "class ConvNet(nn.Module):\n",
    "\tdef __init__(self, init_weights=False):\n",
    "\t\tsuper(ConvNet, self).__init__()\n",
    "\t\tself.conv1 = nn.Conv2d(3, 6, 5)\n",
    "\t\tself.pool = nn.MaxPool2d(2, 2)\n",
    "\t\tself.conv2 = DwConv(6, 16, 5)\n",
    "\t\tself.fc1 = nn.Linear(16 * 7 * 7, 120)\n",
    "\t\tself.fc2 = nn.Linear(120, 84)\n",
    "\t\tself.fc3 = nn.Linear(84, 10)\n",
    "\n",
    "\tdef forward(self, x):\n",
    "\t\tx = self.pool(F.relu(self.conv1(x)))\n",
    "\t\tx = self.pool(F.relu(self.conv2(x)))\n",
    "\t\tx = x.view(-1, 16 * 7 * 7)\n",
    "\t\tx = F.relu(self.fc1(x))\n",
    "\t\tx = F.relu(self.fc2(x))\n",
    "\t\tout = self.fc3(x)\n",
    "\t\treturn out"
   ]
  },
  {
   "cell_type": "markdown",
   "metadata": {
    "id": "kkfh0MSVzUFr"
   },
   "source": [
    "## Part 2\n",
    "Fill in loss function with cross-entropy loss and write the code to obtain accuracy of current batch of data."
   ]
  },
  {
   "cell_type": "code",
   "execution_count": null,
   "metadata": {
    "id": "H3hsGdPBzUFv"
   },
   "outputs": [],
   "source": [
    "\"\"\"\n",
    "---------------------------------------------------------------------\n",
    "Training an image classifier\n",
    "---------------------------------------------------------------------\n",
    "For this assingment you'll do the following steps in order:\n",
    "1. Load and normalizing the CIFAR10 training and test datasets using\n",
    "   ``torchvision``\n",
    "2. Define a Convolutional Neural Network (at least 4 conv layer)\n",
    "3. Define a loss function\n",
    "4. Train the network on the training data\n",
    "5. Test the network on the test data\n",
    "---------------------------------------------------------------------\n",
    "\"\"\"\n",
    "\n",
    "# IMPORTING REQUIRED PACKAGES\n",
    "import os\n",
    "import numpy as np\n",
    "import scipy.io as sio\n",
    "import torch\n",
    "import torchvision\n",
    "import torchvision.transforms as transforms\n",
    "\n",
    "\n",
    "# DEFINE VARIABLE\n",
    "BATCH_SIZE = 32\n",
    "EPOCH_NUM = 100\n",
    "LR = 0.001\n",
    "MODEL_SAVE_PATH = './Models'\n",
    "\n",
    "if not os.path.exists(MODEL_SAVE_PATH):\n",
    "\tos.mkdir(MODEL_SAVE_PATH)\n",
    "\n",
    "# DEFINING TRANSFORM TO APPLY TO THE IMAGES\n",
    "# YOU MAY ADD OTHER TRANSFORMS FOR DATA AUGMENTATION\n",
    "transform = transforms.Compose([\n",
    "\ttransforms.Resize(32),\n",
    "\ttransforms.ToTensor(),\n",
    "\ttransforms.Normalize((0.5, 0.5, 0.5), (0.5, 0.5, 0.5))\n",
    "])\n",
    "\n",
    "\n",
    "########################################################################\n",
    "# 1. LOAD AND NORMALIZE CIFAR10 DATASET\n",
    "########################################################################\n",
    "\n",
    "#FILL IN: Get train and test dataset from torchvision and create respective dataloader\n",
    "trainset = torchvision.datasets.CIFAR10(\n",
    "\troot='./data', train=True,\n",
    "\tdownload=True, transform=transform\n",
    ")\n",
    "trainloader = torch.utils.data.DataLoader(\n",
    "\ttrainset, batch_size=BATCH_SIZE\n",
    ")\n",
    "\n",
    "testset =torchvision.datasets.CIFAR10(\n",
    "\troot='./data', train=False,\n",
    "\tdownload=True, transform=transform\n",
    ")\n",
    "testloader = torch.utils.data.DataLoader(\n",
    "\ttrainset, batch_size=BATCH_SIZE\n",
    ")\n",
    "\n",
    "########################################################################\n",
    "# 2. DEFINE YOUR CONVOLUTIONAL NEURAL NETWORK AND IMPORT IT\n",
    "########################################################################\n",
    "\n",
    "\n",
    "device = torch.device(\"cuda:0\" if torch.cuda.is_available() else \"cpu\")\n",
    "net = ConvNet().to(device) #MAKE SURE TO DEFINE ConvNet IN A CELL ABOVE THE STARTER CODE OF WHICH IS IN cnn_model.py\n",
    "#You can pass arguments to ConvNet if you want instead of hard coding them.\n",
    "\n",
    "\n",
    "########################################################################\n",
    "# 3. DEFINE A LOSS FUNCTION AND OPTIMIZER\n",
    "########################################################################\n",
    "\n",
    "import torch.optim as optim\n",
    "\n",
    "#FILL IN : the criteria for ce loss\n",
    "criterion = nn.CrossEntropyLoss()\n",
    "optimizer = optim.SGD(net.parameters(), lr=LR, momentum=0.9)"
   ]
  },
  {
   "cell_type": "markdown",
   "metadata": {
    "id": "Pv0XYQqgzUFy"
   },
   "source": [
    "## Part 3\n",
    "Fill in to obtain test accuracy over the entire test set and append it to the test accuracy variable."
   ]
  },
  {
   "cell_type": "code",
   "execution_count": null,
   "metadata": {
    "id": "gq27PbvQzUF1"
   },
   "outputs": [],
   "source": [
    "########################################################################\n",
    "# 4. TRAIN THE NETWORK\n",
    "########################################################################\n",
    "\n",
    "test_accuracy = []\n",
    "test_loss = []\n",
    "train_accuracy = []\n",
    "train_loss = []\n",
    "net.train()\n",
    "\n",
    "for epoch in range(EPOCH_NUM):  # loop over the dataset multiple times\n",
    "\n",
    "\trunning_loss = 0.0\n",
    "\ttest_min_acc = 0\n",
    "\ttotal = 0\n",
    "\tcorrect = 0\n",
    "\n",
    "\tfor i, data in enumerate(trainloader, 0):\n",
    "\t\t# get the inputs\n",
    "\t\tinputs, labels = data\n",
    "\n",
    "\t\t# zero the parameter gradients\n",
    "\t\toptimizer.zero_grad()\n",
    "\n",
    "\t\t# forward + backward + optimize\n",
    "\t\toutputs = net(inputs.to(device))\n",
    "\t\tloss = criterion(outputs, labels.to(device))\n",
    "\t\tloss.backward()\n",
    "\t\toptimizer.step()\n",
    "\n",
    "\t\t# print statistics\n",
    "\t\trunning_loss += loss.item()\n",
    "\t\t_, predicted = torch.max(outputs.data, 1)\n",
    "\n",
    "\t\t# FILL IN: Obtain accuracy for the given batch of TRAINING data using\n",
    "\t\t# the formula acc = 100.0 * correct / total where\n",
    "\t\t# total is the toal number of images processed so far\n",
    "\t\t# correct is the correctly classified images so far\n",
    "\n",
    "\t\ttotal += predicted.shape[0]\n",
    "\t\tcorrect += np.sum((predicted.cpu() == labels).numpy())\n",
    "\n",
    "\t\ttrain_loss.append(running_loss/20)\n",
    "\t\ttrain_accuracy.append(100.0*correct/total)\n",
    "\n",
    "\t\tif i % 20 == 19:    # print every 20 mini-batches\n",
    "\t\t\tprint(\n",
    "\t\t\t\t'Train: [%d, %5d] loss: %.3f acc: %.3f' %\n",
    "\t\t\t\t(epoch + 1, i + 1, running_loss / 20,100.0*correct/total)\n",
    "\t\t\t)\n",
    "\t\t\trunning_loss = 0.0\n",
    "\n",
    "\t# TEST LEARNT MODEL ON ENTIRE TESTSET\n",
    "\t# FILL IN: to get test accuracy on the entire testset and append\n",
    "\t# it to the list test_accuracy\n",
    "\n",
    "\trunning_loss = 0.0\n",
    "\tcorrect = 0\n",
    "\ttotal = 0\n",
    "\tnet.eval()\n",
    "\twith torch.no_grad():\n",
    "\t\tfor data in testloader:\n",
    "\t\t\t#\n",
    "\t\t\tinputs, labels = data\n",
    "\t\t\toutputs = net(inputs.to(device))\n",
    "\t\t\t#\n",
    "\t\t\trunning_loss += loss.item()\n",
    "\t\t\t_, predicted = torch.max(outputs.data, 1)\n",
    "\t \t\t#\n",
    "\t\t\ttotal += predicted.shape[0]\n",
    "\t\t\tcorrect += np.sum((predicted.cpu() == labels).numpy())\n",
    "\t \t\t#\n",
    "\t\t\ttest_loss.append(running_loss/20)\n",
    "\t\t\ttest_accuracy.append(100.0*correct/total)\n",
    "\n",
    "\tnet.train()\n",
    "\n",
    "\ttest_ep_acc = test_accuracy[-1]\n",
    "\tprint('Test Accuracy: %.3f %%' % (test_ep_acc))\n",
    "\n",
    "\t# SAVE BEST MODEL\n",
    "\tif test_min_acc < test_ep_acc:\n",
    "\t\ttest_min_acc = test_ep_acc\n",
    "\t\ttorch.save(net,MODEL_SAVE_PATH + '/my_best_model.pth')\n",
    "\n",
    "\n",
    "# PLOT THE TRAINING LOSS VS EPOCH GRAPH\n",
    "# PLOT THE TESTING ACCURACY VS EPOCH GRAPH\n",
    "# PRINT THE FINAL TESTING ACCURACY OF YOUR BEST MODEL\n",
    "\n",
    "print('Finished Training')"
   ]
  },
  {
   "cell_type": "markdown",
   "metadata": {
    "id": "0OosubS9zUF4"
   },
   "source": [
    "## Part 4\n",
    "Plot training loss, train accuracy and test accuracy from the saved variables. Can you infer based on the plots, whether the model is overfitted, under-fitted or perfectly fitted?"
   ]
  },
  {
   "cell_type": "code",
   "execution_count": null,
   "metadata": {
    "id": "dysPKSjxBnjE"
   },
   "outputs": [],
   "source": [
    "import matplotlib.pyplot as plt\n",
    "fig, axs = plt.subplots(2, 3, figsize=(15,8))\n",
    "axs[0,0].set_title(\"Training Loss\")\n",
    "axs[0,0].plot(train_loss)\n",
    "axs[0,1].set_title(\"Testing Loss\")\n",
    "axs[0,1].plot(test_loss)\n",
    "axs[0,2].set_title(\"Testing/Training Loss\")\n",
    "axs[0,2].plot(np.array(test_loss) / np.array(train_loss))\n",
    "axs[1,0].set_title(\"Training Accuracy\")\n",
    "axs[1,0].plot(train_accuracy)\n",
    "axs[1,1].set_title(\"Testing Accuracy\")\n",
    "axs[1,1].plot(test_accuracy)\n",
    "axs[1,2].set_title(\"Testing/Training Accuracy\")\n",
    "axs[1,2].plot(np.array(test_accuracy) / np.array(train_accuracy))"
   ]
  },
  {
   "cell_type": "markdown",
   "metadata": {
    "id": "cyGAjuOwc5EG"
   },
   "source": [
    "Model is well fitted because training and testing accuracy are very similar throughout the training process. Testing accuracy generally remains around 90% of training accuracy for most of the test, so there is slight over-fitting, but not enough to significantly impact model functionality."
   ]
  },
  {
   "cell_type": "code",
   "execution_count": null,
   "metadata": {},
   "outputs": [],
   "source": [
    "from weight_extractor import extract_weights\n",
    "\n",
    "extract_weights(net, \"mininet_weights.json\"))"
   ]
  }
 ],
 "metadata": {
  "kernelspec": {
   "language": "python",
   "name": "python3"
  },
  "language_info": {
   "codemirror_mode": {
    "name": "ipython",
    "version": 3
   },
   "file_extension": ".py",
   "mimetype": "text/x-python",
   "name": "python",
   "nbconvert_exporter": "python",
   "pygments_lexer": "ipython3",
   "version": "3.12.3"
  }
 },
 "nbformat": 4,
 "nbformat_minor": 2
}
